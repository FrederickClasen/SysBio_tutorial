{
 "cells": [
  {
   "cell_type": "markdown",
   "id": "1a66dc5c",
   "metadata": {},
   "source": [
    "# Sytems biology tutorials"
   ]
  },
  {
   "cell_type": "markdown",
   "id": "754d424d",
   "metadata": {},
   "source": [
    "We will use this notebook for all the tutorials for the systems biology module"
   ]
  },
  {
   "cell_type": "markdown",
   "id": "e26907e5",
   "metadata": {},
   "source": [
    "Ensure that cobrapy is installed on your laptop / computer\n",
    "\n",
    "<b>Installation</b>\n",
    "\n",
    "You can install cobrapy on linux, Mac OSX and Windows with pip.\n",
    "\n",
    "On Linux and Mac a simple:\n",
    "\n",
    "$ pip install cobra\n",
    "\n",
    "will be enough. On Windows substitute pip with pip.exe.\n",
    "\n",
    "Or install cobrapy with conda from conda-forge:\n",
    "\n",
    "$ conda install -c conda-forge cobra\n",
    "\n",
    "Detailed installation instructions can be found here:\n",
    "https://github.com/opencobra/cobrapy/blob/devel/INSTALL.rst"
   ]
  },
  {
   "cell_type": "code",
   "execution_count": 2,
   "id": "d7d8f3cb",
   "metadata": {},
   "outputs": [],
   "source": [
    "import cobra\n",
    "import pandas as pd"
   ]
  },
  {
   "cell_type": "markdown",
   "id": "6d66ab65",
   "metadata": {},
   "source": [
    "### Import core E. coli model and view basic attributes"
   ]
  },
  {
   "cell_type": "code",
   "execution_count": 3,
   "id": "6703fa91",
   "metadata": {},
   "outputs": [],
   "source": [
    "# import the core E.coli model\n",
    "model = cobra.io.load_model(\"textbook\")"
   ]
  },
  {
   "cell_type": "code",
   "execution_count": 4,
   "id": "0088a351",
   "metadata": {},
   "outputs": [
    {
     "data": {
      "text/html": [
       "\n",
       "        <table>\n",
       "            <tr>\n",
       "                <td><strong>Name</strong></td>\n",
       "                <td>e_coli_core</td>\n",
       "            </tr><tr>\n",
       "                <td><strong>Memory address</strong></td>\n",
       "                <td>168630880</td>\n",
       "            </tr><tr>\n",
       "                <td><strong>Number of metabolites</strong></td>\n",
       "                <td>72</td>\n",
       "            </tr><tr>\n",
       "                <td><strong>Number of reactions</strong></td>\n",
       "                <td>95</td>\n",
       "            </tr><tr>\n",
       "                <td><strong>Number of genes</strong></td>\n",
       "                <td>137</td>\n",
       "            </tr><tr>\n",
       "                <td><strong>Number of groups</strong></td>\n",
       "                <td>0</td>\n",
       "            </tr><tr>\n",
       "                <td><strong>Objective expression</strong></td>\n",
       "                <td>1.0*Biomass_Ecoli_core - 1.0*Biomass_Ecoli_core_reverse_2cdba</td>\n",
       "            </tr><tr>\n",
       "                <td><strong>Compartments</strong></td>\n",
       "                <td>cytosol, extracellular</td>\n",
       "            </tr>\n",
       "          </table>"
      ],
      "text/plain": [
       "<Model e_coli_core at 0x168630880>"
      ]
     },
     "execution_count": 4,
     "metadata": {},
     "output_type": "execute_result"
    }
   ],
   "source": [
    "# show all model attributes\n",
    "model"
   ]
  },
  {
   "cell_type": "code",
   "execution_count": 5,
   "id": "3add4489",
   "metadata": {},
   "outputs": [
    {
     "data": {
      "text/html": [
       "\n",
       "        <table>\n",
       "            <tr>\n",
       "                <td><strong>Reaction identifier</strong></td><td>PDH</td>\n",
       "            </tr><tr>\n",
       "                <td><strong>Name</strong></td><td>pyruvate dehydrogenase</td>\n",
       "            </tr><tr>\n",
       "                <td><strong>Memory address</strong></td>\n",
       "                <td>0x168077fd0</td>\n",
       "            </tr><tr>\n",
       "                <td><strong>Stoichiometry</strong></td>\n",
       "                <td>\n",
       "                    <p style='text-align:right'>coa_c + nad_c + pyr_c --> accoa_c + co2_c + nadh_c</p>\n",
       "                    <p style='text-align:right'>Coenzyme A + Nicotinamide adenine dinucleotide + Pyruvate --> Acetyl-CoA + CO2 + Nicotinamide adenine dinucleotide - reduced</p>\n",
       "                </td>\n",
       "            </tr><tr>\n",
       "                <td><strong>GPR</strong></td><td>b0115 and b0114 and b0116</td>\n",
       "            </tr><tr>\n",
       "                <td><strong>Lower bound</strong></td><td>0.0</td>\n",
       "            </tr><tr>\n",
       "                <td><strong>Upper bound</strong></td><td>1000.0</td>\n",
       "            </tr>\n",
       "        </table>\n",
       "        "
      ],
      "text/plain": [
       "<Reaction PDH at 0x168077fd0>"
      ]
     },
     "execution_count": 5,
     "metadata": {},
     "output_type": "execute_result"
    }
   ],
   "source": [
    "# view the details of a specific reaction\n",
    "model.reactions[70]"
   ]
  },
  {
   "cell_type": "code",
   "execution_count": 6,
   "id": "335a2808",
   "metadata": {
    "collapsed": true
   },
   "outputs": [
    {
     "name": "stdout",
     "output_type": "stream",
     "text": [
      "ACALD: acald_c + coa_c + nad_c <=> accoa_c + h_c + nadh_c\n",
      "ACALDt: acald_e <=> acald_c\n",
      "ACKr: ac_c + atp_c <=> actp_c + adp_c\n",
      "ACONTa: cit_c <=> acon_C_c + h2o_c\n",
      "ACONTb: acon_C_c + h2o_c <=> icit_c\n",
      "ACt2r: ac_e + h_e <=> ac_c + h_c\n",
      "ADK1: amp_c + atp_c <=> 2.0 adp_c\n",
      "AKGDH: akg_c + coa_c + nad_c --> co2_c + nadh_c + succoa_c\n",
      "AKGt2r: akg_e + h_e <=> akg_c + h_c\n",
      "ALCD2x: etoh_c + nad_c <=> acald_c + h_c + nadh_c\n",
      "ATPM: atp_c + h2o_c --> adp_c + h_c + pi_c\n",
      "ATPS4r: adp_c + 4.0 h_e + pi_c <=> atp_c + h2o_c + 3.0 h_c\n",
      "Biomass_Ecoli_core: 1.496 3pg_c + 3.7478 accoa_c + 59.81 atp_c + 0.361 e4p_c + 0.0709 f6p_c + 0.129 g3p_c + 0.205 g6p_c + 0.2557 gln__L_c + 4.9414 glu__L_c + 59.81 h2o_c + 3.547 nad_c + 13.0279 nadph_c + 1.7867 oaa_c + 0.5191 pep_c + 2.8328 pyr_c + 0.8977 r5p_c --> 59.81 adp_c + 4.1182 akg_c + 3.7478 coa_c + 59.81 h_c + 3.547 nadh_c + 13.0279 nadp_c + 59.81 pi_c\n",
      "CO2t: co2_e <=> co2_c\n",
      "CS: accoa_c + h2o_c + oaa_c --> cit_c + coa_c + h_c\n",
      "CYTBD: 2.0 h_c + 0.5 o2_c + q8h2_c --> h2o_c + 2.0 h_e + q8_c\n",
      "D_LACt2: h_e + lac__D_e <=> h_c + lac__D_c\n",
      "ENO: 2pg_c <=> h2o_c + pep_c\n",
      "ETOHt2r: etoh_e + h_e <=> etoh_c + h_c\n",
      "EX_ac_e: ac_e --> \n",
      "EX_acald_e: acald_e --> \n",
      "EX_akg_e: akg_e --> \n",
      "EX_co2_e: co2_e <=> \n",
      "EX_etoh_e: etoh_e --> \n",
      "EX_for_e: for_e --> \n",
      "EX_fru_e: fru_e --> \n",
      "EX_fum_e: fum_e --> \n",
      "EX_glc__D_e: glc__D_e <=> \n",
      "EX_gln__L_e: gln__L_e --> \n",
      "EX_glu__L_e: glu__L_e --> \n",
      "EX_h_e: h_e <=> \n",
      "EX_h2o_e: h2o_e <=> \n",
      "EX_lac__D_e: lac__D_e --> \n",
      "EX_mal__L_e: mal__L_e --> \n",
      "EX_nh4_e: nh4_e <=> \n",
      "EX_o2_e: o2_e <=> \n",
      "EX_pi_e: pi_e <=> \n",
      "EX_pyr_e: pyr_e --> \n",
      "EX_succ_e: succ_e --> \n",
      "FBA: fdp_c <=> dhap_c + g3p_c\n",
      "FBP: fdp_c + h2o_c --> f6p_c + pi_c\n",
      "FORt2: for_e + h_e --> for_c + h_c\n",
      "FORti: for_c --> for_e\n",
      "FRD7: fum_c + q8h2_c --> q8_c + succ_c\n",
      "FRUpts2: fru_e + pep_c --> f6p_c + pyr_c\n",
      "FUM: fum_c + h2o_c <=> mal__L_c\n",
      "FUMt2_2: fum_e + 2.0 h_e --> fum_c + 2.0 h_c\n",
      "G6PDH2r: g6p_c + nadp_c <=> 6pgl_c + h_c + nadph_c\n",
      "GAPD: g3p_c + nad_c + pi_c <=> 13dpg_c + h_c + nadh_c\n",
      "GLCpts: glc__D_e + pep_c --> g6p_c + pyr_c\n",
      "GLNS: atp_c + glu__L_c + nh4_c --> adp_c + gln__L_c + h_c + pi_c\n",
      "GLNabc: atp_c + gln__L_e + h2o_c --> adp_c + gln__L_c + h_c + pi_c\n",
      "GLUDy: glu__L_c + h2o_c + nadp_c <=> akg_c + h_c + nadph_c + nh4_c\n",
      "GLUN: gln__L_c + h2o_c --> glu__L_c + nh4_c\n",
      "GLUSy: akg_c + gln__L_c + h_c + nadph_c --> 2.0 glu__L_c + nadp_c\n",
      "GLUt2r: glu__L_e + h_e <=> glu__L_c + h_c\n",
      "GND: 6pgc_c + nadp_c --> co2_c + nadph_c + ru5p__D_c\n",
      "H2Ot: h2o_e <=> h2o_c\n",
      "ICDHyr: icit_c + nadp_c <=> akg_c + co2_c + nadph_c\n",
      "ICL: icit_c --> glx_c + succ_c\n",
      "LDH_D: lac__D_c + nad_c <=> h_c + nadh_c + pyr_c\n",
      "MALS: accoa_c + glx_c + h2o_c --> coa_c + h_c + mal__L_c\n",
      "MALt2_2: 2.0 h_e + mal__L_e --> 2.0 h_c + mal__L_c\n",
      "MDH: mal__L_c + nad_c <=> h_c + nadh_c + oaa_c\n",
      "ME1: mal__L_c + nad_c --> co2_c + nadh_c + pyr_c\n",
      "ME2: mal__L_c + nadp_c --> co2_c + nadph_c + pyr_c\n",
      "NADH16: 4.0 h_c + nadh_c + q8_c --> 3.0 h_e + nad_c + q8h2_c\n",
      "NADTRHD: nad_c + nadph_c --> nadh_c + nadp_c\n",
      "NH4t: nh4_e <=> nh4_c\n",
      "O2t: o2_e <=> o2_c\n",
      "PDH: coa_c + nad_c + pyr_c --> accoa_c + co2_c + nadh_c\n",
      "PFK: atp_c + f6p_c --> adp_c + fdp_c + h_c\n",
      "PFL: coa_c + pyr_c --> accoa_c + for_c\n",
      "PGI: g6p_c <=> f6p_c\n",
      "PGK: 3pg_c + atp_c <=> 13dpg_c + adp_c\n",
      "PGL: 6pgl_c + h2o_c --> 6pgc_c + h_c\n",
      "PGM: 2pg_c <=> 3pg_c\n",
      "PIt2r: h_e + pi_e <=> h_c + pi_c\n",
      "PPC: co2_c + h2o_c + pep_c --> h_c + oaa_c + pi_c\n",
      "PPCK: atp_c + oaa_c --> adp_c + co2_c + pep_c\n",
      "PPS: atp_c + h2o_c + pyr_c --> amp_c + 2.0 h_c + pep_c + pi_c\n",
      "PTAr: accoa_c + pi_c <=> actp_c + coa_c\n",
      "PYK: adp_c + h_c + pep_c --> atp_c + pyr_c\n",
      "PYRt2: h_e + pyr_e <=> h_c + pyr_c\n",
      "RPE: ru5p__D_c <=> xu5p__D_c\n",
      "RPI: r5p_c <=> ru5p__D_c\n",
      "SUCCt2_2: 2.0 h_e + succ_e --> 2.0 h_c + succ_c\n",
      "SUCCt3: h_e + succ_c --> h_c + succ_e\n",
      "SUCDi: q8_c + succ_c --> fum_c + q8h2_c\n",
      "SUCOAS: atp_c + coa_c + succ_c <=> adp_c + pi_c + succoa_c\n",
      "TALA: g3p_c + s7p_c <=> e4p_c + f6p_c\n",
      "THD2: 2.0 h_e + nadh_c + nadp_c --> 2.0 h_c + nad_c + nadph_c\n",
      "TKT1: r5p_c + xu5p__D_c <=> g3p_c + s7p_c\n",
      "TKT2: e4p_c + xu5p__D_c <=> f6p_c + g3p_c\n",
      "TPI: dhap_c <=> g3p_c\n"
     ]
    }
   ],
   "source": [
    "# print all the reactions\n",
    "for rxn in model.reactions:\n",
    "    print(rxn)"
   ]
  },
  {
   "cell_type": "markdown",
   "id": "bfe76ed1",
   "metadata": {},
   "source": [
    "#### Excercise: "
   ]
  },
  {
   "cell_type": "markdown",
   "id": "627cf62f",
   "metadata": {},
   "source": [
    "1. check the details of one specific metabolite (type \"model.\" and hit Tab on the keyboard to view all model attributes)"
   ]
  },
  {
   "cell_type": "code",
   "execution_count": null,
   "id": "f91eebb2",
   "metadata": {},
   "outputs": [],
   "source": [
    "# do the exercise here"
   ]
  },
  {
   "cell_type": "markdown",
   "id": "9db84fc8",
   "metadata": {},
   "source": [
    "2. check the details of all metabolites in the model"
   ]
  },
  {
   "cell_type": "code",
   "execution_count": null,
   "id": "148ba870",
   "metadata": {},
   "outputs": [],
   "source": [
    "# do the exercise here"
   ]
  },
  {
   "cell_type": "markdown",
   "id": "9c5ac029",
   "metadata": {},
   "source": [
    "### Stoichiometric matrix"
   ]
  },
  {
   "cell_type": "code",
   "execution_count": 7,
   "id": "e6331d1c",
   "metadata": {},
   "outputs": [],
   "source": [
    "# Extract the stoichiometric matrix\n",
    "S = cobra.util.array.create_stoichiometric_matrix(model)"
   ]
  },
  {
   "cell_type": "code",
   "execution_count": 8,
   "id": "4e117aab",
   "metadata": {},
   "outputs": [
    {
     "data": {
      "text/plain": [
       "array([[ 0.,  0.,  0., ...,  0.,  0.,  0.],\n",
       "       [ 0.,  0.,  0., ...,  0.,  0.,  0.],\n",
       "       [ 0.,  0.,  0., ...,  0.,  0.,  0.],\n",
       "       ...,\n",
       "       [ 0.,  0.,  0., ...,  0.,  0.,  0.],\n",
       "       [ 0.,  0.,  0., ...,  0.,  0.,  0.],\n",
       "       [ 0.,  0.,  0., ..., -1., -1.,  0.]])"
      ]
     },
     "execution_count": 8,
     "metadata": {},
     "output_type": "execute_result"
    }
   ],
   "source": [
    "# show the S-matrix (this will be shown as a numpy array)\n",
    "S"
   ]
  },
  {
   "cell_type": "code",
   "execution_count": 9,
   "id": "0153e55b",
   "metadata": {},
   "outputs": [
    {
     "name": "stdout",
     "output_type": "stream",
     "text": [
      "Stoichiometric Matrix:\n"
     ]
    },
    {
     "data": {
      "text/html": [
       "<div>\n",
       "<style scoped>\n",
       "    .dataframe tbody tr th:only-of-type {\n",
       "        vertical-align: middle;\n",
       "    }\n",
       "\n",
       "    .dataframe tbody tr th {\n",
       "        vertical-align: top;\n",
       "    }\n",
       "\n",
       "    .dataframe thead th {\n",
       "        text-align: right;\n",
       "    }\n",
       "</style>\n",
       "<table border=\"1\" class=\"dataframe\">\n",
       "  <thead>\n",
       "    <tr style=\"text-align: right;\">\n",
       "      <th></th>\n",
       "      <th>ACALD</th>\n",
       "      <th>ACALDt</th>\n",
       "      <th>ACKr</th>\n",
       "      <th>ACONTa</th>\n",
       "      <th>ACONTb</th>\n",
       "      <th>ACt2r</th>\n",
       "      <th>ADK1</th>\n",
       "      <th>AKGDH</th>\n",
       "      <th>AKGt2r</th>\n",
       "      <th>ALCD2x</th>\n",
       "      <th>...</th>\n",
       "      <th>RPI</th>\n",
       "      <th>SUCCt2_2</th>\n",
       "      <th>SUCCt3</th>\n",
       "      <th>SUCDi</th>\n",
       "      <th>SUCOAS</th>\n",
       "      <th>TALA</th>\n",
       "      <th>THD2</th>\n",
       "      <th>TKT1</th>\n",
       "      <th>TKT2</th>\n",
       "      <th>TPI</th>\n",
       "    </tr>\n",
       "  </thead>\n",
       "  <tbody>\n",
       "    <tr>\n",
       "      <th>13dpg_c</th>\n",
       "      <td>0.0</td>\n",
       "      <td>0.0</td>\n",
       "      <td>0.0</td>\n",
       "      <td>0.0</td>\n",
       "      <td>0.0</td>\n",
       "      <td>0.0</td>\n",
       "      <td>0.0</td>\n",
       "      <td>0.0</td>\n",
       "      <td>0.0</td>\n",
       "      <td>0.0</td>\n",
       "      <td>...</td>\n",
       "      <td>0.0</td>\n",
       "      <td>0.0</td>\n",
       "      <td>0.0</td>\n",
       "      <td>0.0</td>\n",
       "      <td>0.0</td>\n",
       "      <td>0.0</td>\n",
       "      <td>0.0</td>\n",
       "      <td>0.0</td>\n",
       "      <td>0.0</td>\n",
       "      <td>0.0</td>\n",
       "    </tr>\n",
       "    <tr>\n",
       "      <th>2pg_c</th>\n",
       "      <td>0.0</td>\n",
       "      <td>0.0</td>\n",
       "      <td>0.0</td>\n",
       "      <td>0.0</td>\n",
       "      <td>0.0</td>\n",
       "      <td>0.0</td>\n",
       "      <td>0.0</td>\n",
       "      <td>0.0</td>\n",
       "      <td>0.0</td>\n",
       "      <td>0.0</td>\n",
       "      <td>...</td>\n",
       "      <td>0.0</td>\n",
       "      <td>0.0</td>\n",
       "      <td>0.0</td>\n",
       "      <td>0.0</td>\n",
       "      <td>0.0</td>\n",
       "      <td>0.0</td>\n",
       "      <td>0.0</td>\n",
       "      <td>0.0</td>\n",
       "      <td>0.0</td>\n",
       "      <td>0.0</td>\n",
       "    </tr>\n",
       "    <tr>\n",
       "      <th>3pg_c</th>\n",
       "      <td>0.0</td>\n",
       "      <td>0.0</td>\n",
       "      <td>0.0</td>\n",
       "      <td>0.0</td>\n",
       "      <td>0.0</td>\n",
       "      <td>0.0</td>\n",
       "      <td>0.0</td>\n",
       "      <td>0.0</td>\n",
       "      <td>0.0</td>\n",
       "      <td>0.0</td>\n",
       "      <td>...</td>\n",
       "      <td>0.0</td>\n",
       "      <td>0.0</td>\n",
       "      <td>0.0</td>\n",
       "      <td>0.0</td>\n",
       "      <td>0.0</td>\n",
       "      <td>0.0</td>\n",
       "      <td>0.0</td>\n",
       "      <td>0.0</td>\n",
       "      <td>0.0</td>\n",
       "      <td>0.0</td>\n",
       "    </tr>\n",
       "    <tr>\n",
       "      <th>6pgc_c</th>\n",
       "      <td>0.0</td>\n",
       "      <td>0.0</td>\n",
       "      <td>0.0</td>\n",
       "      <td>0.0</td>\n",
       "      <td>0.0</td>\n",
       "      <td>0.0</td>\n",
       "      <td>0.0</td>\n",
       "      <td>0.0</td>\n",
       "      <td>0.0</td>\n",
       "      <td>0.0</td>\n",
       "      <td>...</td>\n",
       "      <td>0.0</td>\n",
       "      <td>0.0</td>\n",
       "      <td>0.0</td>\n",
       "      <td>0.0</td>\n",
       "      <td>0.0</td>\n",
       "      <td>0.0</td>\n",
       "      <td>0.0</td>\n",
       "      <td>0.0</td>\n",
       "      <td>0.0</td>\n",
       "      <td>0.0</td>\n",
       "    </tr>\n",
       "    <tr>\n",
       "      <th>6pgl_c</th>\n",
       "      <td>0.0</td>\n",
       "      <td>0.0</td>\n",
       "      <td>0.0</td>\n",
       "      <td>0.0</td>\n",
       "      <td>0.0</td>\n",
       "      <td>0.0</td>\n",
       "      <td>0.0</td>\n",
       "      <td>0.0</td>\n",
       "      <td>0.0</td>\n",
       "      <td>0.0</td>\n",
       "      <td>...</td>\n",
       "      <td>0.0</td>\n",
       "      <td>0.0</td>\n",
       "      <td>0.0</td>\n",
       "      <td>0.0</td>\n",
       "      <td>0.0</td>\n",
       "      <td>0.0</td>\n",
       "      <td>0.0</td>\n",
       "      <td>0.0</td>\n",
       "      <td>0.0</td>\n",
       "      <td>0.0</td>\n",
       "    </tr>\n",
       "    <tr>\n",
       "      <th>...</th>\n",
       "      <td>...</td>\n",
       "      <td>...</td>\n",
       "      <td>...</td>\n",
       "      <td>...</td>\n",
       "      <td>...</td>\n",
       "      <td>...</td>\n",
       "      <td>...</td>\n",
       "      <td>...</td>\n",
       "      <td>...</td>\n",
       "      <td>...</td>\n",
       "      <td>...</td>\n",
       "      <td>...</td>\n",
       "      <td>...</td>\n",
       "      <td>...</td>\n",
       "      <td>...</td>\n",
       "      <td>...</td>\n",
       "      <td>...</td>\n",
       "      <td>...</td>\n",
       "      <td>...</td>\n",
       "      <td>...</td>\n",
       "      <td>...</td>\n",
       "    </tr>\n",
       "    <tr>\n",
       "      <th>s7p_c</th>\n",
       "      <td>0.0</td>\n",
       "      <td>0.0</td>\n",
       "      <td>0.0</td>\n",
       "      <td>0.0</td>\n",
       "      <td>0.0</td>\n",
       "      <td>0.0</td>\n",
       "      <td>0.0</td>\n",
       "      <td>0.0</td>\n",
       "      <td>0.0</td>\n",
       "      <td>0.0</td>\n",
       "      <td>...</td>\n",
       "      <td>0.0</td>\n",
       "      <td>0.0</td>\n",
       "      <td>0.0</td>\n",
       "      <td>0.0</td>\n",
       "      <td>0.0</td>\n",
       "      <td>-1.0</td>\n",
       "      <td>0.0</td>\n",
       "      <td>1.0</td>\n",
       "      <td>0.0</td>\n",
       "      <td>0.0</td>\n",
       "    </tr>\n",
       "    <tr>\n",
       "      <th>succ_c</th>\n",
       "      <td>0.0</td>\n",
       "      <td>0.0</td>\n",
       "      <td>0.0</td>\n",
       "      <td>0.0</td>\n",
       "      <td>0.0</td>\n",
       "      <td>0.0</td>\n",
       "      <td>0.0</td>\n",
       "      <td>0.0</td>\n",
       "      <td>0.0</td>\n",
       "      <td>0.0</td>\n",
       "      <td>...</td>\n",
       "      <td>0.0</td>\n",
       "      <td>1.0</td>\n",
       "      <td>-1.0</td>\n",
       "      <td>-1.0</td>\n",
       "      <td>-1.0</td>\n",
       "      <td>0.0</td>\n",
       "      <td>0.0</td>\n",
       "      <td>0.0</td>\n",
       "      <td>0.0</td>\n",
       "      <td>0.0</td>\n",
       "    </tr>\n",
       "    <tr>\n",
       "      <th>succ_e</th>\n",
       "      <td>0.0</td>\n",
       "      <td>0.0</td>\n",
       "      <td>0.0</td>\n",
       "      <td>0.0</td>\n",
       "      <td>0.0</td>\n",
       "      <td>0.0</td>\n",
       "      <td>0.0</td>\n",
       "      <td>0.0</td>\n",
       "      <td>0.0</td>\n",
       "      <td>0.0</td>\n",
       "      <td>...</td>\n",
       "      <td>0.0</td>\n",
       "      <td>-1.0</td>\n",
       "      <td>1.0</td>\n",
       "      <td>0.0</td>\n",
       "      <td>0.0</td>\n",
       "      <td>0.0</td>\n",
       "      <td>0.0</td>\n",
       "      <td>0.0</td>\n",
       "      <td>0.0</td>\n",
       "      <td>0.0</td>\n",
       "    </tr>\n",
       "    <tr>\n",
       "      <th>succoa_c</th>\n",
       "      <td>0.0</td>\n",
       "      <td>0.0</td>\n",
       "      <td>0.0</td>\n",
       "      <td>0.0</td>\n",
       "      <td>0.0</td>\n",
       "      <td>0.0</td>\n",
       "      <td>0.0</td>\n",
       "      <td>1.0</td>\n",
       "      <td>0.0</td>\n",
       "      <td>0.0</td>\n",
       "      <td>...</td>\n",
       "      <td>0.0</td>\n",
       "      <td>0.0</td>\n",
       "      <td>0.0</td>\n",
       "      <td>0.0</td>\n",
       "      <td>1.0</td>\n",
       "      <td>0.0</td>\n",
       "      <td>0.0</td>\n",
       "      <td>0.0</td>\n",
       "      <td>0.0</td>\n",
       "      <td>0.0</td>\n",
       "    </tr>\n",
       "    <tr>\n",
       "      <th>xu5p__D_c</th>\n",
       "      <td>0.0</td>\n",
       "      <td>0.0</td>\n",
       "      <td>0.0</td>\n",
       "      <td>0.0</td>\n",
       "      <td>0.0</td>\n",
       "      <td>0.0</td>\n",
       "      <td>0.0</td>\n",
       "      <td>0.0</td>\n",
       "      <td>0.0</td>\n",
       "      <td>0.0</td>\n",
       "      <td>...</td>\n",
       "      <td>0.0</td>\n",
       "      <td>0.0</td>\n",
       "      <td>0.0</td>\n",
       "      <td>0.0</td>\n",
       "      <td>0.0</td>\n",
       "      <td>0.0</td>\n",
       "      <td>0.0</td>\n",
       "      <td>-1.0</td>\n",
       "      <td>-1.0</td>\n",
       "      <td>0.0</td>\n",
       "    </tr>\n",
       "  </tbody>\n",
       "</table>\n",
       "<p>72 rows × 95 columns</p>\n",
       "</div>"
      ],
      "text/plain": [
       "           ACALD  ACALDt  ACKr  ACONTa  ACONTb  ACt2r  ADK1  AKGDH  AKGt2r  \\\n",
       "13dpg_c      0.0     0.0   0.0     0.0     0.0    0.0   0.0    0.0     0.0   \n",
       "2pg_c        0.0     0.0   0.0     0.0     0.0    0.0   0.0    0.0     0.0   \n",
       "3pg_c        0.0     0.0   0.0     0.0     0.0    0.0   0.0    0.0     0.0   \n",
       "6pgc_c       0.0     0.0   0.0     0.0     0.0    0.0   0.0    0.0     0.0   \n",
       "6pgl_c       0.0     0.0   0.0     0.0     0.0    0.0   0.0    0.0     0.0   \n",
       "...          ...     ...   ...     ...     ...    ...   ...    ...     ...   \n",
       "s7p_c        0.0     0.0   0.0     0.0     0.0    0.0   0.0    0.0     0.0   \n",
       "succ_c       0.0     0.0   0.0     0.0     0.0    0.0   0.0    0.0     0.0   \n",
       "succ_e       0.0     0.0   0.0     0.0     0.0    0.0   0.0    0.0     0.0   \n",
       "succoa_c     0.0     0.0   0.0     0.0     0.0    0.0   0.0    1.0     0.0   \n",
       "xu5p__D_c    0.0     0.0   0.0     0.0     0.0    0.0   0.0    0.0     0.0   \n",
       "\n",
       "           ALCD2x  ...  RPI  SUCCt2_2  SUCCt3  SUCDi  SUCOAS  TALA  THD2  \\\n",
       "13dpg_c       0.0  ...  0.0       0.0     0.0    0.0     0.0   0.0   0.0   \n",
       "2pg_c         0.0  ...  0.0       0.0     0.0    0.0     0.0   0.0   0.0   \n",
       "3pg_c         0.0  ...  0.0       0.0     0.0    0.0     0.0   0.0   0.0   \n",
       "6pgc_c        0.0  ...  0.0       0.0     0.0    0.0     0.0   0.0   0.0   \n",
       "6pgl_c        0.0  ...  0.0       0.0     0.0    0.0     0.0   0.0   0.0   \n",
       "...           ...  ...  ...       ...     ...    ...     ...   ...   ...   \n",
       "s7p_c         0.0  ...  0.0       0.0     0.0    0.0     0.0  -1.0   0.0   \n",
       "succ_c        0.0  ...  0.0       1.0    -1.0   -1.0    -1.0   0.0   0.0   \n",
       "succ_e        0.0  ...  0.0      -1.0     1.0    0.0     0.0   0.0   0.0   \n",
       "succoa_c      0.0  ...  0.0       0.0     0.0    0.0     1.0   0.0   0.0   \n",
       "xu5p__D_c     0.0  ...  0.0       0.0     0.0    0.0     0.0   0.0   0.0   \n",
       "\n",
       "           TKT1  TKT2  TPI  \n",
       "13dpg_c     0.0   0.0  0.0  \n",
       "2pg_c       0.0   0.0  0.0  \n",
       "3pg_c       0.0   0.0  0.0  \n",
       "6pgc_c      0.0   0.0  0.0  \n",
       "6pgl_c      0.0   0.0  0.0  \n",
       "...         ...   ...  ...  \n",
       "s7p_c       1.0   0.0  0.0  \n",
       "succ_c      0.0   0.0  0.0  \n",
       "succ_e      0.0   0.0  0.0  \n",
       "succoa_c    0.0   0.0  0.0  \n",
       "xu5p__D_c  -1.0  -1.0  0.0  \n",
       "\n",
       "[72 rows x 95 columns]"
      ]
     },
     "execution_count": 9,
     "metadata": {},
     "output_type": "execute_result"
    }
   ],
   "source": [
    "# Convert to a pandas DataFrame for better visualization\n",
    "S_matrix = pd.DataFrame(S, \n",
    "                        index=[m.id for m in model.metabolites], \n",
    "                        columns=[r.id for r in model.reactions])\n",
    "\n",
    "print(\"Stoichiometric Matrix:\")\n",
    "S_matrix"
   ]
  },
  {
   "cell_type": "code",
   "execution_count": 10,
   "id": "39e73999",
   "metadata": {},
   "outputs": [
    {
     "data": {
      "text/html": [
       "<div>\n",
       "<style scoped>\n",
       "    .dataframe tbody tr th:only-of-type {\n",
       "        vertical-align: middle;\n",
       "    }\n",
       "\n",
       "    .dataframe tbody tr th {\n",
       "        vertical-align: top;\n",
       "    }\n",
       "\n",
       "    .dataframe thead th {\n",
       "        text-align: right;\n",
       "    }\n",
       "</style>\n",
       "<table border=\"1\" class=\"dataframe\">\n",
       "  <thead>\n",
       "    <tr style=\"text-align: right;\">\n",
       "      <th></th>\n",
       "      <th>ACALD</th>\n",
       "      <th>ACALDt</th>\n",
       "      <th>ACKr</th>\n",
       "    </tr>\n",
       "  </thead>\n",
       "  <tbody>\n",
       "    <tr>\n",
       "      <th>ac_c</th>\n",
       "      <td>0.0</td>\n",
       "      <td>0.0</td>\n",
       "      <td>-1.0</td>\n",
       "    </tr>\n",
       "    <tr>\n",
       "      <th>acald_c</th>\n",
       "      <td>-1.0</td>\n",
       "      <td>1.0</td>\n",
       "      <td>0.0</td>\n",
       "    </tr>\n",
       "    <tr>\n",
       "      <th>acald_e</th>\n",
       "      <td>0.0</td>\n",
       "      <td>-1.0</td>\n",
       "      <td>0.0</td>\n",
       "    </tr>\n",
       "    <tr>\n",
       "      <th>accoa_c</th>\n",
       "      <td>1.0</td>\n",
       "      <td>0.0</td>\n",
       "      <td>0.0</td>\n",
       "    </tr>\n",
       "    <tr>\n",
       "      <th>actp_c</th>\n",
       "      <td>0.0</td>\n",
       "      <td>0.0</td>\n",
       "      <td>1.0</td>\n",
       "    </tr>\n",
       "    <tr>\n",
       "      <th>adp_c</th>\n",
       "      <td>0.0</td>\n",
       "      <td>0.0</td>\n",
       "      <td>1.0</td>\n",
       "    </tr>\n",
       "    <tr>\n",
       "      <th>atp_c</th>\n",
       "      <td>0.0</td>\n",
       "      <td>0.0</td>\n",
       "      <td>-1.0</td>\n",
       "    </tr>\n",
       "    <tr>\n",
       "      <th>coa_c</th>\n",
       "      <td>-1.0</td>\n",
       "      <td>0.0</td>\n",
       "      <td>0.0</td>\n",
       "    </tr>\n",
       "    <tr>\n",
       "      <th>h_c</th>\n",
       "      <td>1.0</td>\n",
       "      <td>0.0</td>\n",
       "      <td>0.0</td>\n",
       "    </tr>\n",
       "    <tr>\n",
       "      <th>nad_c</th>\n",
       "      <td>-1.0</td>\n",
       "      <td>0.0</td>\n",
       "      <td>0.0</td>\n",
       "    </tr>\n",
       "    <tr>\n",
       "      <th>nadh_c</th>\n",
       "      <td>1.0</td>\n",
       "      <td>0.0</td>\n",
       "      <td>0.0</td>\n",
       "    </tr>\n",
       "  </tbody>\n",
       "</table>\n",
       "</div>"
      ],
      "text/plain": [
       "         ACALD  ACALDt  ACKr\n",
       "ac_c       0.0     0.0  -1.0\n",
       "acald_c   -1.0     1.0   0.0\n",
       "acald_e    0.0    -1.0   0.0\n",
       "accoa_c    1.0     0.0   0.0\n",
       "actp_c     0.0     0.0   1.0\n",
       "adp_c      0.0     0.0   1.0\n",
       "atp_c      0.0     0.0  -1.0\n",
       "coa_c     -1.0     0.0   0.0\n",
       "h_c        1.0     0.0   0.0\n",
       "nad_c     -1.0     0.0   0.0\n",
       "nadh_c     1.0     0.0   0.0"
      ]
     },
     "execution_count": 10,
     "metadata": {},
     "output_type": "execute_result"
    }
   ],
   "source": [
    "# Extract the first few reactions \n",
    "df = S_matrix.iloc[:, : 3]\n",
    "df = df.loc[~(df==0).all(axis=1)]\n",
    "df"
   ]
  },
  {
   "cell_type": "markdown",
   "id": "8ec1bf61",
   "metadata": {},
   "source": [
    "## Let's build a model from scratch!"
   ]
  },
  {
   "cell_type": "markdown",
   "id": "55354eb0",
   "metadata": {},
   "source": [
    "The main components of a GEM is metabolites, reactions and genes\n",
    "\n",
    "If we build a model we can do this step by step by adding these components - this is called bottom-up model reconstruction and is key in GEM analysis\n",
    "\n",
    "Although there are thousands of models available, through understanding how to build simple GEMs, you understand GEM architecture better, and are more capable to manipulate GEMs"
   ]
  },
  {
   "cell_type": "code",
   "execution_count": 13,
   "id": "ceff008f",
   "metadata": {},
   "outputs": [],
   "source": [
    "# Create a empty model\n",
    "model = cobra.Model(\"my_model\")\n",
    "\n",
    "# Create four reactions\n",
    "v1 = cobra.Reaction(\"v1\")\n",
    "v2 = cobra.Reaction(\"v2\")\n",
    "v3 = cobra.Reaction(\"v3\")\n",
    "v4 = cobra.Reaction(\"v4\")\n",
    "\n",
    "# Create four metabolites\n",
    "A = cobra.Metabolite(\"A\")\n",
    "B = cobra.Metabolite(\"B\")\n",
    "C = cobra.Metabolite(\"C\")\n",
    "D = cobra.Metabolite(\"D\")\n",
    "\n",
    "# Add reactions and metabolites to the model\n",
    "model.add_reactions([v1, v2, v3, v4])\n",
    "model.add_metabolites([A,B,C,D])\n",
    "\n",
    "v1.reaction = \"A <-> B\"\n",
    "v2.reaction = \"A -> D\"\n",
    "v3.reaction = \"A -> C\"\n",
    "v4.reaction = \"C -> D\""
   ]
  },
  {
   "cell_type": "code",
   "execution_count": 14,
   "id": "f799a0a0",
   "metadata": {},
   "outputs": [
    {
     "data": {
      "text/html": [
       "\n",
       "        <table>\n",
       "            <tr>\n",
       "                <td><strong>Name</strong></td>\n",
       "                <td>my_model</td>\n",
       "            </tr><tr>\n",
       "                <td><strong>Memory address</strong></td>\n",
       "                <td>169f830a0</td>\n",
       "            </tr><tr>\n",
       "                <td><strong>Number of metabolites</strong></td>\n",
       "                <td>4</td>\n",
       "            </tr><tr>\n",
       "                <td><strong>Number of reactions</strong></td>\n",
       "                <td>4</td>\n",
       "            </tr><tr>\n",
       "                <td><strong>Number of genes</strong></td>\n",
       "                <td>0</td>\n",
       "            </tr><tr>\n",
       "                <td><strong>Number of groups</strong></td>\n",
       "                <td>0</td>\n",
       "            </tr><tr>\n",
       "                <td><strong>Objective expression</strong></td>\n",
       "                <td>0</td>\n",
       "            </tr><tr>\n",
       "                <td><strong>Compartments</strong></td>\n",
       "                <td></td>\n",
       "            </tr>\n",
       "          </table>"
      ],
      "text/plain": [
       "<Model my_model at 0x169f830a0>"
      ]
     },
     "execution_count": 14,
     "metadata": {},
     "output_type": "execute_result"
    }
   ],
   "source": [
    "model"
   ]
  },
  {
   "cell_type": "markdown",
   "id": "4a13cde8",
   "metadata": {},
   "source": [
    "#### Question 1: Draw out the Stoichiometrix matrix of the model created on the provided worksheet\n",
    "\n",
    "You can do either one of the following to build the S-matrix:\n",
    "- Generate it programatically here and transfer it directly to the worksheet\n",
    "- Build it from the reaction equations "
   ]
  },
  {
   "cell_type": "markdown",
   "id": "eed9acf5",
   "metadata": {},
   "source": [
    "#### Question 2: Add additional reactions and metabolites to the model and draw it out and generate the S-matrix\n",
    "\n",
    "\n",
    "a) Add two reactions to the model. One that converts metabolite B to metabolite D and another tha converts metabolite D to a new metabolite E\n",
    "\n",
    "\n",
    " b) Draw a small network visualisation for this on the provided worksheet and generate the new S-matrix for this mdel and transfer it to the worksheet"
   ]
  },
  {
   "cell_type": "markdown",
   "id": "574a009a",
   "metadata": {},
   "source": [
    "#### Question 3 (bonus): Add exchange reactions to the model. How can we represent uptake and secretion?\n",
    "\n",
    "\n",
    "Add another two reactions to the model. The first is the uptake of A and the second is the production of E (do this programatically first and generate the S-matrix in python). Also represent this on the network sketch.\n"
   ]
  },
  {
   "cell_type": "markdown",
   "id": "8e32882d",
   "metadata": {},
   "source": [
    " ## Running metabolic flux - optimization"
   ]
  },
  {
   "cell_type": "code",
   "execution_count": 15,
   "id": "bb0bf0d4",
   "metadata": {},
   "outputs": [
    {
     "name": "stdout",
     "output_type": "stream",
     "text": [
      "Maximize\n",
      "1.0*Biomass_Ecoli_core - 1.0*Biomass_Ecoli_core_reverse_2cdba\n"
     ]
    }
   ],
   "source": [
    "# import the core E.coli model and solve the objective function.\n",
    "# the model has the objective function set as biomass production off the shelf\n",
    "model = cobra.io.load_model(\"textbook\")\n",
    "print(model.objective)"
   ]
  },
  {
   "cell_type": "code",
   "execution_count": 16,
   "id": "f313949b",
   "metadata": {
    "scrolled": false
   },
   "outputs": [
    {
     "data": {
      "text/plain": [
       "0.8739215069684279"
      ]
     },
     "execution_count": 16,
     "metadata": {},
     "output_type": "execute_result"
    }
   ],
   "source": [
    "solution = model.optimize()\n",
    "solution.objective_value"
   ]
  },
  {
   "cell_type": "code",
   "execution_count": 17,
   "id": "6d2e667a",
   "metadata": {},
   "outputs": [
    {
     "data": {
      "text/html": [
       "\n",
       "        <table>\n",
       "            <tr>\n",
       "                <td><strong>Reaction identifier</strong></td><td>ATPM</td>\n",
       "            </tr><tr>\n",
       "                <td><strong>Name</strong></td><td>ATP maintenance requirement</td>\n",
       "            </tr><tr>\n",
       "                <td><strong>Memory address</strong></td>\n",
       "                <td>0x16a852f20</td>\n",
       "            </tr><tr>\n",
       "                <td><strong>Stoichiometry</strong></td>\n",
       "                <td>\n",
       "                    <p style='text-align:right'>atp_c + h2o_c --> adp_c + h_c + pi_c</p>\n",
       "                    <p style='text-align:right'>ATP + H2O --> ADP + H+ + Phosphate</p>\n",
       "                </td>\n",
       "            </tr><tr>\n",
       "                <td><strong>GPR</strong></td><td></td>\n",
       "            </tr><tr>\n",
       "                <td><strong>Lower bound</strong></td><td>8.39</td>\n",
       "            </tr><tr>\n",
       "                <td><strong>Upper bound</strong></td><td>1000.0</td>\n",
       "            </tr>\n",
       "        </table>\n",
       "        "
      ],
      "text/plain": [
       "<Reaction ATPM at 0x16a852f20>"
      ]
     },
     "execution_count": 17,
     "metadata": {},
     "output_type": "execute_result"
    }
   ],
   "source": [
    "# let's change the objective function\n",
    "\n",
    "# view the ATP maintenance requirement reaction\n",
    "model.reactions.get_by_id(\"ATPM\")"
   ]
  },
  {
   "cell_type": "code",
   "execution_count": 18,
   "id": "77655c35",
   "metadata": {},
   "outputs": [
    {
     "name": "stdout",
     "output_type": "stream",
     "text": [
      "Maximize\n",
      "1.0*ATPM - 1.0*ATPM_reverse_5b752\n"
     ]
    }
   ],
   "source": [
    "# change the objective to ATPM\n",
    "model.objective = \"ATPM\"\n",
    "print(model.objective)\n",
    "# The upper bound should be 1000, so that we get\n",
    "# the actual optimal value\n",
    "model.reactions.get_by_id(\"ATPM\").upper_bound = 1000."
   ]
  },
  {
   "cell_type": "code",
   "execution_count": 19,
   "id": "98387e55",
   "metadata": {},
   "outputs": [
    {
     "data": {
      "text/plain": [
       "175.00000000000006"
      ]
     },
     "execution_count": 19,
     "metadata": {},
     "output_type": "execute_result"
    }
   ],
   "source": [
    "model.optimize().objective_value"
   ]
  }
 ],
 "metadata": {
  "kernelspec": {
   "display_name": "Python 3 (ipykernel)",
   "language": "python",
   "name": "python3"
  },
  "language_info": {
   "codemirror_mode": {
    "name": "ipython",
    "version": 3
   },
   "file_extension": ".py",
   "mimetype": "text/x-python",
   "name": "python",
   "nbconvert_exporter": "python",
   "pygments_lexer": "ipython3",
   "version": "3.10.9"
  }
 },
 "nbformat": 4,
 "nbformat_minor": 5
}
