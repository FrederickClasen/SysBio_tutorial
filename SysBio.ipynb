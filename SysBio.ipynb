{
 "cells": [
  {
   "cell_type": "markdown",
   "id": "1a66dc5c",
   "metadata": {},
   "source": [
    "# Sytems biology tutorials"
   ]
  },
  {
   "cell_type": "markdown",
   "id": "754d424d",
   "metadata": {},
   "source": [
    "We will use this notebook for all the tutorials for the systems biology module"
   ]
  },
  {
   "cell_type": "markdown",
   "id": "e26907e5",
   "metadata": {},
   "source": [
    "Ensure that cobrapy is installed on your laptop / computer\n",
    "\n",
    "<b>Installation</b>\n",
    "\n",
    "You can install cobrapy on linux, Mac OSX and Windows with pip.\n",
    "\n",
    "On Linux and Mac a simple:\n",
    "\n",
    "$ pip install cobra\n",
    "\n",
    "will be enough. On Windows substitute pip with pip.exe.\n",
    "\n",
    "Or install cobrapy with conda from conda-forge:\n",
    "\n",
    "$ conda install -c conda-forge cobra\n",
    "\n",
    "Detailed installation instructions can be found here:\n",
    "https://github.com/opencobra/cobrapy/blob/devel/INSTALL.rst"
   ]
  },
  {
   "cell_type": "code",
   "execution_count": null,
   "id": "daf7f720",
   "metadata": {},
   "outputs": [],
   "source": [
    "import cobra\n",
    "import pandas as pd"
   ]
  },
  {
   "cell_type": "markdown",
   "id": "b91237fb",
   "metadata": {},
   "source": [
    "## Tutorial 1: GEM and S-matrix\n"
   ]
  },
  {
   "cell_type": "markdown",
   "id": "c8c1587e",
   "metadata": {},
   "source": [
    "### Import core E. coli model and view basic attributes"
   ]
  },
  {
   "cell_type": "code",
   "execution_count": null,
   "id": "ddfb553b",
   "metadata": {},
   "outputs": [],
   "source": [
    "# import the core E.coli model\n",
    "model = cobra.io.load_model(\"textbook\")"
   ]
  },
  {
   "cell_type": "code",
   "execution_count": null,
   "id": "cd1bf44f",
   "metadata": {},
   "outputs": [],
   "source": [
    "# show all model attributes\n",
    "model"
   ]
  },
  {
   "cell_type": "code",
   "execution_count": null,
   "id": "35e2ab70",
   "metadata": {},
   "outputs": [],
   "source": [
    "# view the details of a specific reaction\n",
    "model.reactions[70]"
   ]
  },
  {
   "cell_type": "code",
   "execution_count": null,
   "id": "53a9a174",
   "metadata": {},
   "outputs": [],
   "source": [
    "# print all the reactions\n",
    "for rxn in model.reactions:\n",
    "    print(rxn)"
   ]
  },
  {
   "cell_type": "markdown",
   "id": "6f39a781",
   "metadata": {},
   "source": [
    "#### Excercise: "
   ]
  },
  {
   "cell_type": "markdown",
   "id": "68847c07",
   "metadata": {},
   "source": [
    "1. check the details of one specific metabolite (type \"model.\" and hit Tab on the keyboard to view all model attributes)"
   ]
  },
  {
   "cell_type": "code",
   "execution_count": null,
   "id": "ccb7f2ff",
   "metadata": {},
   "outputs": [],
   "source": [
    "# do the exercise here\n",
    "model.metabolites[1]"
   ]
  },
  {
   "cell_type": "markdown",
   "id": "e9ed275e",
   "metadata": {},
   "source": [
    "2. check the details of all metabolites in the model"
   ]
  },
  {
   "cell_type": "code",
   "execution_count": null,
   "id": "bc0de307",
   "metadata": {
    "scrolled": true
   },
   "outputs": [],
   "source": [
    "# do the exercise here\n",
    "for met in model.metabolites:\n",
    "    print(met)"
   ]
  },
  {
   "cell_type": "markdown",
   "id": "8a01dfb0",
   "metadata": {},
   "source": [
    "### Stoichiometric matrix"
   ]
  },
  {
   "cell_type": "code",
   "execution_count": null,
   "id": "66a014eb",
   "metadata": {},
   "outputs": [],
   "source": [
    "# Extract the stoichiometric matrix\n",
    "S = cobra.util.array.create_stoichiometric_matrix(model)"
   ]
  },
  {
   "cell_type": "code",
   "execution_count": null,
   "id": "8322c4a1",
   "metadata": {},
   "outputs": [],
   "source": [
    "# show the S-matrix (this will be shown as a numpy array)\n",
    "S"
   ]
  },
  {
   "cell_type": "code",
   "execution_count": null,
   "id": "bc190a9c",
   "metadata": {},
   "outputs": [],
   "source": [
    "# Convert to a pandas DataFrame for better visualization\n",
    "S_matrix = pd.DataFrame(S, \n",
    "                        index=[m.id for m in model.metabolites], \n",
    "                        columns=[r.id for r in model.reactions])\n",
    "\n",
    "print(\"Stoichiometric Matrix:\")\n",
    "S_matrix"
   ]
  },
  {
   "cell_type": "code",
   "execution_count": null,
   "id": "5359f2a7",
   "metadata": {},
   "outputs": [],
   "source": [
    "# Extract the first few reactions \n",
    "df = S_matrix.iloc[:, : 3]\n",
    "df = df.loc[~(df==0).all(axis=1)]\n",
    "df"
   ]
  },
  {
   "cell_type": "markdown",
   "id": "8344eba4",
   "metadata": {},
   "source": [
    "## Let's build a model from scratch!"
   ]
  },
  {
   "cell_type": "markdown",
   "id": "f2391e93",
   "metadata": {},
   "source": [
    "The main components of a GEM is metabolites, reactions and genes\n",
    "\n",
    "If we build a model we can do this step by step by adding these components - this is called bottom-up model reconstruction and is key in GEM analysis\n",
    "\n",
    "Although there are thousands of models available, through understanding how to build simple GEMs, you understand GEM architecture better, and are more capable to manipulate GEMs"
   ]
  },
  {
   "cell_type": "code",
   "execution_count": null,
   "id": "ed0cafc4",
   "metadata": {},
   "outputs": [],
   "source": [
    "# Create a empty model\n",
    "model = cobra.Model(\"my_model\")\n",
    "\n",
    "# Create four reactions\n",
    "v1 = cobra.Reaction(\"v1\")\n",
    "v2 = cobra.Reaction(\"v2\")\n",
    "v3 = cobra.Reaction(\"v3\")\n",
    "v4 = cobra.Reaction(\"v4\")\n",
    "\n",
    "# Create four metabolites\n",
    "A = cobra.Metabolite(\"A\")\n",
    "B = cobra.Metabolite(\"B\")\n",
    "C = cobra.Metabolite(\"C\")\n",
    "D = cobra.Metabolite(\"D\")\n",
    "\n",
    "# Add reactions and metabolites to the model\n",
    "model.add_reactions([v1, v2, v3, v4])\n",
    "model.add_metabolites([A,B,C,D])\n",
    "#########\n",
    "v1.reaction = \"A <-> B\"\n",
    "v2.reaction = \"A -> D\"\n",
    "v3.reaction = \"A -> C\"\n",
    "v4.reaction = \"C -> D\""
   ]
  },
  {
   "cell_type": "code",
   "execution_count": null,
   "id": "88ac4927",
   "metadata": {},
   "outputs": [],
   "source": [
    "model"
   ]
  },
  {
   "cell_type": "markdown",
   "id": "a1f0c1c4",
   "metadata": {},
   "source": [
    "#### Question 1: Draw out the Stoichiometrix matrix of the model created on a worksheet\n",
    "\n",
    "You can do either one of the following to build the S-matrix:\n",
    "- Generate it programatically here and transfer it directly to the worksheet\n",
    "- Build it from the reaction equations "
   ]
  },
  {
   "cell_type": "code",
   "execution_count": null,
   "id": "3fe8476f",
   "metadata": {},
   "outputs": [],
   "source": [
    "S = cobra.util.array.create_stoichiometric_matrix(model)\n",
    "S_matrix = pd.DataFrame(S, \n",
    "                        index=[m.id for m in model.metabolites], \n",
    "                        columns=[r.id for r in model.reactions])\n",
    "S_matrix"
   ]
  },
  {
   "cell_type": "markdown",
   "id": "2eb9a754",
   "metadata": {},
   "source": [
    "#### Question 2: Add additional reactions and metabolites to the model and draw it out and generate the S-matrix\n",
    "\n",
    "\n",
    "a) Add two reactions to the model. One that converts metabolite B to metabolite D and another tha converts metabolite D to a new metabolite E\n",
    "\n",
    "\n",
    " b) Draw a small network visualisation for this on the provided worksheet and generate the new S-matrix for this mdel and transfer it to the worksheet"
   ]
  },
  {
   "cell_type": "code",
   "execution_count": null,
   "id": "bdbdde3b",
   "metadata": {},
   "outputs": [],
   "source": [
    "# Create a empty model\n",
    "model = cobra.Model(\"my_model\")\n",
    "\n",
    "# Create four reactions\n",
    "v1 = cobra.Reaction(\"v1\")\n",
    "v2 = cobra.Reaction(\"v2\")\n",
    "v3 = cobra.Reaction(\"v3\")\n",
    "v4 = cobra.Reaction(\"v4\")\n",
    "v5 = cobra.Reaction(\"v5\")\n",
    "v6 = cobra.Reaction(\"v6\")\n",
    "\n",
    "# Create four metabolites\n",
    "A = cobra.Metabolite(\"A\")\n",
    "B = cobra.Metabolite(\"B\")\n",
    "C = cobra.Metabolite(\"C\")\n",
    "D = cobra.Metabolite(\"D\")\n",
    "E = cobra.Metabolite(\"E\")\n",
    "\n",
    "# Add reactions and metabolites to the model\n",
    "model.add_reactions([v1, v2, v3, v4, v5, v6])\n",
    "model.add_metabolites([A,B,C,D,E])\n",
    "#########\n",
    "v1.reaction = \"A <-> B\"\n",
    "v2.reaction = \"A -> D\"\n",
    "v3.reaction = \"A -> C\"\n",
    "v4.reaction = \"C -> D\"\n",
    "v5.reaction = \"B -> D\"\n",
    "v6.reaction = \"D -> E\"\n",
    "\n",
    "S = cobra.util.array.create_stoichiometric_matrix(model)\n",
    "S_matrix = pd.DataFrame(S, \n",
    "                        index=[m.id for m in model.metabolites], \n",
    "                        columns=[r.id for r in model.reactions])\n",
    "S_matrix"
   ]
  },
  {
   "cell_type": "markdown",
   "id": "f33fd770",
   "metadata": {},
   "source": [
    "#### Question 3 (bonus): Add exchange reactions to the model. How can we represent uptake and secretion?\n",
    "\n",
    "\n",
    "Add another two reactions to the model. The first is the uptake of A and the second is the production of E (do this programatically first and generate the S-matrix in python). Also represent this on the network sketch.\n"
   ]
  },
  {
   "cell_type": "code",
   "execution_count": null,
   "id": "a63c6d1f",
   "metadata": {},
   "outputs": [],
   "source": [
    "# Create a empty model\n",
    "model = cobra.Model(\"my_model\")\n",
    "\n",
    "# Create four reactions\n",
    "v1 = cobra.Reaction(\"v1\")\n",
    "v2 = cobra.Reaction(\"v2\")\n",
    "v3 = cobra.Reaction(\"v3\")\n",
    "v4 = cobra.Reaction(\"v4\")\n",
    "v5 = cobra.Reaction(\"v5\")\n",
    "v6 = cobra.Reaction(\"v6\")\n",
    "v7 = cobra.Reaction(\"v7\")\n",
    "v8 = cobra.Reaction(\"v8\")\n",
    "\n",
    "# Create four metabolites\n",
    "A = cobra.Metabolite(\"A\")\n",
    "B = cobra.Metabolite(\"B\")\n",
    "C = cobra.Metabolite(\"C\")\n",
    "D = cobra.Metabolite(\"D\")\n",
    "E = cobra.Metabolite(\"E\")\n",
    "\n",
    "# Add reactions and metabolites to the model\n",
    "model.add_reactions([v1, v2, v3, v4, v5, v6, v7, v8])\n",
    "model.add_metabolites([A,B,C,D,E])\n",
    "\n",
    "v1.reaction = \"A <-> B\"\n",
    "v2.reaction = \"A -> D\"\n",
    "v3.reaction = \"A -> C\"\n",
    "v4.reaction = \"C -> D\"\n",
    "v5.reaction = \"B -> D\"\n",
    "v6.reaction = \"D -> E\"\n",
    "v7.reaction = \"-> A\"\n",
    "v8.reaction = \"E ->\"\n",
    "\n",
    "S = cobra.util.array.create_stoichiometric_matrix(model)\n",
    "S_matrix = pd.DataFrame(S, \n",
    "                        index=[m.id for m in model.metabolites], \n",
    "                        columns=[r.id for r in model.reactions])\n",
    "S_matrix"
   ]
  },
  {
   "cell_type": "markdown",
   "id": "6721f1c2",
   "metadata": {},
   "source": [
    " ## Running metabolic flux - optimization"
   ]
  },
  {
   "cell_type": "code",
   "execution_count": null,
   "id": "6b20ccb8",
   "metadata": {},
   "outputs": [],
   "source": [
    "# import the core E.coli model and solve the objective function.\n",
    "# the model has the objective function set as biomass production off the shelf\n",
    "model = cobra.io.load_model(\"textbook\")\n",
    "print(model.objective)"
   ]
  },
  {
   "cell_type": "code",
   "execution_count": null,
   "id": "1f558e11",
   "metadata": {
    "scrolled": false
   },
   "outputs": [],
   "source": [
    "solution = model.optimize()\n",
    "solution.objective_value"
   ]
  },
  {
   "cell_type": "code",
   "execution_count": null,
   "id": "21d04393",
   "metadata": {},
   "outputs": [],
   "source": [
    "# let's change the objective function\n",
    "# view the ATP maintenance requirement reaction\n",
    "model.reactions.get_by_id(\"ATPM\")"
   ]
  },
  {
   "cell_type": "code",
   "execution_count": null,
   "id": "088a1d9f",
   "metadata": {},
   "outputs": [],
   "source": [
    "# change the objective to ATPM\n",
    "model.objective = \"ATPM\"\n",
    "print(model.objective)\n",
    "# The upper bound should be 1000, so that we get\n",
    "# the actual optimal value\n",
    "model.reactions.get_by_id(\"ATPM\").upper_bound = 1000."
   ]
  },
  {
   "cell_type": "code",
   "execution_count": null,
   "id": "182f1620",
   "metadata": {},
   "outputs": [],
   "source": [
    "model.optimize().objective_value"
   ]
  },
  {
   "cell_type": "markdown",
   "id": "beeea46b",
   "metadata": {},
   "source": [
    "## Tutorial 2: Constraints"
   ]
  },
  {
   "cell_type": "markdown",
   "id": "bce3f567",
   "metadata": {},
   "source": [
    "In this tutorial we will use e.coli model to illustrate the effect of constraints on flux simulations\n",
    "\n",
    "we will use plotly to plot some graphs, but you can also use other visualization packages\n",
    "\n",
    "install plotly with \"pip install plotly\" in command line"
   ]
  },
  {
   "cell_type": "code",
   "execution_count": null,
   "id": "e5b405f9",
   "metadata": {},
   "outputs": [],
   "source": [
    "import cobra\n",
    "import pandas as pd\n",
    "import plotly.graph_objects as go\n",
    "import plotly.express as px"
   ]
  },
  {
   "cell_type": "code",
   "execution_count": null,
   "id": "b63ecde7",
   "metadata": {},
   "outputs": [],
   "source": [
    "# import the core E.coli model \n",
    "model = cobra.io.load_model(\"iJO1366\")"
   ]
  },
  {
   "cell_type": "code",
   "execution_count": null,
   "id": "4309ea0c",
   "metadata": {
    "scrolled": false
   },
   "outputs": [],
   "source": [
    "# get all the exchange reactions in the model \n",
    "ex_rxns = model.exchanges\n",
    "rxns = [x.id for x in ex_rxns]\n",
    "eq = [x.reaction for x in ex_rxns]\n",
    "lb = [x.bounds[0] for x in ex_rxns]\n",
    "ub = [x.bounds[1] for x in ex_rxns]\n",
    "out = pd.DataFrame(index = rxns,data = {'equation' : eq,\n",
    "                                        'lb' : lb,\n",
    "                                        'ub' : ub})\n",
    "out"
   ]
  },
  {
   "cell_type": "markdown",
   "id": "54417227",
   "metadata": {},
   "source": [
    "Question: what does the bounds of glucose exchange (EX_glc__D_e) mean?\n",
    "Search for this reaction using out.loc['###'] where ### is the index you are searching for"
   ]
  },
  {
   "cell_type": "markdown",
   "id": "3e3ca168",
   "metadata": {},
   "source": [
    "Question: are any of the reactions already constrained? Filter the lb and ub in the out dataframe "
   ]
  },
  {
   "cell_type": "markdown",
   "id": "122e7374",
   "metadata": {},
   "source": [
    "##### We will start by looking at aerobic and anaerobic condition"
   ]
  },
  {
   "cell_type": "code",
   "execution_count": null,
   "id": "0a6ef449",
   "metadata": {
    "scrolled": false
   },
   "outputs": [],
   "source": [
    "# let's optimize the model and assess the uptake and secretion\n",
    "solution = model.optimize()\n",
    "df = solution.to_frame()\n",
    "# get only the exhange reaction fluxes\n",
    "df = df.loc[out.index]\n",
    "df = df[df['fluxes'] != 0]\n",
    "df"
   ]
  },
  {
   "cell_type": "code",
   "execution_count": null,
   "id": "82b38d45",
   "metadata": {},
   "outputs": [],
   "source": [
    "# from the uptake and secretion it is evident that the model only produces CO2 and H2O\n",
    "# let's change the model to anaerobic and see if this changes the input and output\n",
    "\n",
    "anaerobic_model = model.copy()\n",
    "anaerobic_model.reactions.get_by_id(\"EX_co2_e\").upper_bound = 0 # block CO2 production\n",
    "anaerobic_model.reactions.get_by_id(\"EX_o2_e\").lower_bound = 0 # block O2 production\n",
    "\n",
    "solution = anaerobic_model.optimize()\n",
    "df = solution.to_frame()\n",
    "# get only the exhange reaction fluxes\n",
    "df = df.loc[out.index]\n",
    "df = df[df['fluxes'] != 0]\n",
    "# get the reaction equations and add to the output\n",
    "reaction_ids = df.index\n",
    "reaction_equations = {\n",
    "    rid: anaerobic_model.reactions.get_by_id(rid).build_reaction_string(use_metabolite_names=True)\n",
    "    for rid in reaction_ids\n",
    "}\n",
    "df['equations'] = reaction_equations\n",
    "df.head(5)"
   ]
  },
  {
   "cell_type": "code",
   "execution_count": null,
   "id": "c71ffb61",
   "metadata": {},
   "outputs": [],
   "source": [
    "fig = px.bar(df,x='equations',y='fluxes',template='none')\n",
    "fig.show()"
   ]
  },
  {
   "cell_type": "markdown",
   "id": "ecb3e068",
   "metadata": {},
   "source": [
    "Question: what are the main metabolites produced under anaerobic conditions? How do you think we can increase the production of some of these metabolites?"
   ]
  },
  {
   "cell_type": "markdown",
   "id": "5c5045e7",
   "metadata": {},
   "source": [
    "###### Check how uptake constraints impact model predictions"
   ]
  },
  {
   "cell_type": "code",
   "execution_count": null,
   "id": "219e5af3",
   "metadata": {},
   "outputs": [],
   "source": [
    "# Perform FBA with the default model (no uptake reactions blocked)\n",
    "model = cobra.io.load_model(\"iJO1366\")\n",
    "default_solution = model.optimize()\n",
    "default_biomass = default_solution.objective_value\n",
    "print(f\"Default biomass production: {default_biomass:.4f}\")"
   ]
  },
  {
   "cell_type": "code",
   "execution_count": null,
   "id": "bf1bd921",
   "metadata": {},
   "outputs": [],
   "source": [
    "# Identify all uptake reactions\n",
    "# Uptake reactions are those with a negative lower bound, meaning they allow for the uptake of metabolites.\n",
    "# [ see if this matches the reaction equations above ]\n",
    "uptake_reactions = [ rxn for rxn in model.exchanges if rxn.lower_bound < 0 ]\n",
    "print(f\"Number of uptake reactions: {len(uptake_reactions)}\")"
   ]
  },
  {
   "cell_type": "markdown",
   "id": "e02a3789",
   "metadata": {},
   "source": [
    "We will now run a loop through all these reactions, block each one individually and assess its effect on biomass production"
   ]
  },
  {
   "cell_type": "code",
   "execution_count": null,
   "id": "80f6cb9e",
   "metadata": {
    "scrolled": true
   },
   "outputs": [],
   "source": [
    "# Create a list to store the effects on biomass production that we will use to create a dataframe\n",
    "uptake_effects = []\n",
    "\n",
    "# Block each uptake reaction one by one and measure biomass\n",
    "for rxn in uptake_reactions:\n",
    "    \n",
    "    # Save the original bounds\n",
    "    original_bounds = (rxn.lower_bound, rxn.upper_bound)\n",
    "    \n",
    "    # Block the uptake by setting the lower bound to 0\n",
    "    rxn.lower_bound = 0\n",
    "    \n",
    "    # Run FBA and check if a solution was found\n",
    "    solution = model.optimize()\n",
    "    if solution.status == 'optimal':\n",
    "        biomass = solution.objective_value\n",
    "    else:\n",
    "        biomass = 0\n",
    "    \n",
    "    # Store the reaction ID and biomass production\n",
    "    uptake_effects.append({'rxn' : rxn.id, 'biomass_flux': biomass})\n",
    "    \n",
    "    # Restore the original bounds - important!\n",
    "    rxn.lower_bound, rxn.upper_bound = original_bounds\n",
    "\n",
    "data = pd.DataFrame(uptake_effects)\n",
    "data"
   ]
  },
  {
   "cell_type": "code",
   "execution_count": null,
   "id": "23986f96",
   "metadata": {},
   "outputs": [],
   "source": [
    "# Plot the effects using Plotly\n",
    "fig = px.bar(data,x='rxn',y='biomass_flux',template='none')\n",
    "fig.add_shape(type=\"line\",\n",
    "              x0=-0.5, x1=len(data.index) - 0.5,\n",
    "              y0=default_biomass, y1=default_biomass,\n",
    "              line=dict(color=\"red\", dash=\"dash\") )\n",
    "fig.show()"
   ]
  },
  {
   "cell_type": "markdown",
   "id": "c2fa7ba7",
   "metadata": {},
   "source": [
    "#### single gene and reaction deletions"
   ]
  },
  {
   "cell_type": "code",
   "execution_count": null,
   "id": "1eaada32",
   "metadata": {},
   "outputs": [],
   "source": [
    "# let's import the model again to make sure we start with a baseline model and store the baseline biomass\n",
    "model = cobra.io.load_model(\"iJO1366\")\n",
    "default_solution = model.optimize()\n",
    "default_biomass = default_solution.objective_value"
   ]
  },
  {
   "cell_type": "code",
   "execution_count": null,
   "id": "94604807",
   "metadata": {},
   "outputs": [],
   "source": [
    "# run single gene deletion\n",
    "deletion_results = cobra.flux_analysis.single_gene_deletion(model)"
   ]
  },
  {
   "cell_type": "code",
   "execution_count": null,
   "id": "7a6c23d4",
   "metadata": {},
   "outputs": [],
   "source": [
    "df = deletion_results.copy()\n",
    "df['growth'] = df['growth'].round(5)\n",
    "df = df[df['growth'] != round(default_biomass,5)]\n",
    "df"
   ]
  },
  {
   "cell_type": "markdown",
   "id": "821efe76",
   "metadata": {},
   "source": [
    "# Question: how does aerobic and anaerobic conditions impact nutrient uptake and gene deletions?"
   ]
  }
 ],
 "metadata": {
  "kernelspec": {
   "display_name": "Python 3 (ipykernel)",
   "language": "python",
   "name": "python3"
  },
  "language_info": {
   "codemirror_mode": {
    "name": "ipython",
    "version": 3
   },
   "file_extension": ".py",
   "mimetype": "text/x-python",
   "name": "python",
   "nbconvert_exporter": "python",
   "pygments_lexer": "ipython3",
   "version": "3.10.9"
  }
 },
 "nbformat": 4,
 "nbformat_minor": 5
}
